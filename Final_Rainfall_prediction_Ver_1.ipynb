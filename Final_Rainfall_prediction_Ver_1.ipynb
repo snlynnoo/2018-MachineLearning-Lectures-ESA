{
  "nbformat": 4,
  "nbformat_minor": 0,
  "metadata": {
    "colab": {
      "provenance": [],
      "toc_visible": true,
      "mount_file_id": "1b7A0Pqa-aAt2IvSOqhR2yHv0ye9Ynsmq",
      "authorship_tag": "ABX9TyMjf9Tj5uvKeEqDB235vx/Y",
      "include_colab_link": true
    },
    "kernelspec": {
      "name": "python3",
      "display_name": "Python 3"
    },
    "language_info": {
      "name": "python"
    }
  },
  "cells": [
    {
      "cell_type": "markdown",
      "metadata": {
        "id": "view-in-github",
        "colab_type": "text"
      },
      "source": [
        "<a href=\"https://colab.research.google.com/github/snlynnoo/2018-MachineLearning-Lectures-ESA/blob/master/Final_Rainfall_prediction_Ver_1.ipynb\" target=\"_parent\"><img src=\"https://colab.research.google.com/assets/colab-badge.svg\" alt=\"Open In Colab\"/></a>"
      ]
    },
    {
      "cell_type": "markdown",
      "source": [
        "#Rainfall Prediction "
      ],
      "metadata": {
        "id": "stl439C_D4RR"
      }
    },
    {
      "cell_type": "code",
      "source": [
        "from google.colab import drive\n",
        "drive.mount('/content/drive')"
      ],
      "metadata": {
        "id": "IcaR32YXEA8W",
        "colab": {
          "base_uri": "https://localhost:8080/"
        },
        "outputId": "abc6d236-0be0-4647-c551-eddac1db755c"
      },
      "execution_count": 1,
      "outputs": [
        {
          "output_type": "stream",
          "name": "stdout",
          "text": [
            "Drive already mounted at /content/drive; to attempt to forcibly remount, call drive.mount(\"/content/drive\", force_remount=True).\n"
          ]
        }
      ]
    },
    {
      "cell_type": "code",
      "source": [
        "# Import libraries\n",
        "import pandas as pd\n",
        "import numpy as np\n",
        "import seaborn as sns\n",
        "import missingno as msno\n",
        "import matplotlib.pyplot as plt\n",
        "\n",
        "# Set max row and col for pandas df\n",
        "pd.set_option('display.max_columns', None)\n",
        "pd.set_option('display.max_rows', 200)\n",
        "\n",
        "# Supress warnings\n",
        "import warnings\n",
        "warnings.filterwarnings('ignore')"
      ],
      "metadata": {
        "id": "oDJq6mFYNXoI"
      },
      "execution_count": 2,
      "outputs": []
    },
    {
      "cell_type": "code",
      "source": [
        "# Importing dataset\n",
        "rf = pd.read_csv('/content/drive/MyDrive/1_Rainfall/rainfall_data.csv')"
      ],
      "metadata": {
        "id": "zZpA3QIfNgMZ"
      },
      "execution_count": 3,
      "outputs": []
    },
    {
      "cell_type": "markdown",
      "source": [
        "##Data Exploration\n"
      ],
      "metadata": {
        "id": "LrYz_oIhN-HP"
      }
    },
    {
      "cell_type": "code",
      "source": [
        "# Dataset rows and columns\n",
        "rf.shape"
      ],
      "metadata": {
        "colab": {
          "base_uri": "https://localhost:8080/"
        },
        "id": "-Rg6TLuNW8Tf",
        "outputId": "252494a5-c632-4708-a71d-bfa9c60657fa"
      },
      "execution_count": 4,
      "outputs": [
        {
          "output_type": "execute_result",
          "data": {
            "text/plain": [
              "(13514, 15)"
            ]
          },
          "metadata": {},
          "execution_count": 4
        }
      ]
    },
    {
      "cell_type": "code",
      "source": [
        "# Dataset information \n",
        "rf.info()"
      ],
      "metadata": {
        "colab": {
          "base_uri": "https://localhost:8080/"
        },
        "id": "yUOaemu5_2_8",
        "outputId": "efebad87-dcbc-4c6e-e1ab-0b9dabcf6e69"
      },
      "execution_count": 5,
      "outputs": [
        {
          "output_type": "stream",
          "name": "stdout",
          "text": [
            "<class 'pandas.core.frame.DataFrame'>\n",
            "RangeIndex: 13514 entries, 0 to 13513\n",
            "Data columns (total 15 columns):\n",
            " #   Column          Non-Null Count  Dtype  \n",
            "---  ------          --------------  -----  \n",
            " 0   date            13514 non-null  object \n",
            " 1   temperature     13514 non-null  float64\n",
            " 2   sun_dur         13514 non-null  float64\n",
            " 3   sunwave_rad     13514 non-null  float64\n",
            " 4   r_humidity      13514 non-null  float64\n",
            " 5   cloud_covr      13514 non-null  float64\n",
            " 6   pressure        13514 non-null  float64\n",
            " 7   evapotrans      13514 non-null  float64\n",
            " 8   soil_temp       13514 non-null  float64\n",
            " 9   soil_moisture   13514 non-null  float64\n",
            " 10  vapor_pressure  13514 non-null  float64\n",
            " 11  wind_speed      13514 non-null  float64\n",
            " 12  wind_dir        13514 non-null  float64\n",
            " 13  wind_gust       13514 non-null  float64\n",
            " 14  rainfall        13514 non-null  float64\n",
            "dtypes: float64(14), object(1)\n",
            "memory usage: 1.5+ MB\n"
          ]
        }
      ]
    },
    {
      "cell_type": "code",
      "source": [
        "# Viewing dataset\n",
        "rf.head(10)"
      ],
      "metadata": {
        "colab": {
          "base_uri": "https://localhost:8080/",
          "height": 403
        },
        "id": "RcATAAs0ODED",
        "outputId": "43297870-2029-4a0d-cea6-b95f639c82b9"
      },
      "execution_count": 6,
      "outputs": [
        {
          "output_type": "execute_result",
          "data": {
            "text/plain": [
              "            date  temperature  sun_dur  sunwave_rad  r_humidity  cloud_covr  \\\n",
              "0  19850101T0000        17.24   581.98      4393.04       74.79       37.10   \n",
              "1  19850102T0000        16.79   576.65      4733.91       73.79       20.18   \n",
              "2  19850103T0000        15.96   424.92      4748.15       74.04       60.13   \n",
              "3  19850104T0000        15.33   419.72      4887.88       75.29       37.93   \n",
              "4  19850105T0000        15.49   514.05      4951.96       72.13       34.67   \n",
              "5  19850106T0000        14.96   658.83      5155.77       61.25        0.00   \n",
              "6  19850107T0000        14.87   612.33      4981.33       62.71        4.42   \n",
              "7  19850108T0000        15.51   437.56      4981.33       70.42       22.37   \n",
              "8  19850109T0000        15.22   579.62      5077.45       75.38       17.09   \n",
              "9  19850110T0000        15.19   464.33      4913.69       76.13       41.00   \n",
              "\n",
              "   pressure  evapotrans  soil_temp  soil_moisture  vapor_pressure  wind_speed  \\\n",
              "0   1015.48        2.64      16.06           0.28            5.62        0.93   \n",
              "1   1015.70        2.93      16.27           0.28            5.86        1.18   \n",
              "2   1015.85        2.92      17.05           0.27            5.94        0.92   \n",
              "3   1016.10        2.85      15.80           0.27            5.35        0.88   \n",
              "4   1015.27        2.94      17.16           0.27            5.92        1.04   \n",
              "5   1014.96        3.01      13.42           0.27            7.73        1.16   \n",
              "6   1016.38        2.88      13.31           0.26            7.31        1.15   \n",
              "7   1015.56        2.83      14.62           0.26            6.29        1.07   \n",
              "8   1016.01        2.75      14.76           0.26            5.43        1.03   \n",
              "9   1014.89        2.72      16.27           0.26            5.14        1.40   \n",
              "\n",
              "   wind_dir  wind_gust  rainfall  \n",
              "0    289.26       2.00       0.0  \n",
              "1    308.82       2.26       0.0  \n",
              "2    265.89       1.91       0.0  \n",
              "3    298.26       2.31       0.0  \n",
              "4    286.70       2.19       0.0  \n",
              "5    265.58       1.87       0.0  \n",
              "6    310.45       2.07       0.0  \n",
              "7    309.81       2.33       0.0  \n",
              "8    307.25       1.80       0.0  \n",
              "9    288.01       2.35       0.0  "
            ],
            "text/html": [
              "\n",
              "  <div id=\"df-d5174b10-2bf0-495a-98aa-c2bf1bb30763\">\n",
              "    <div class=\"colab-df-container\">\n",
              "      <div>\n",
              "<style scoped>\n",
              "    .dataframe tbody tr th:only-of-type {\n",
              "        vertical-align: middle;\n",
              "    }\n",
              "\n",
              "    .dataframe tbody tr th {\n",
              "        vertical-align: top;\n",
              "    }\n",
              "\n",
              "    .dataframe thead th {\n",
              "        text-align: right;\n",
              "    }\n",
              "</style>\n",
              "<table border=\"1\" class=\"dataframe\">\n",
              "  <thead>\n",
              "    <tr style=\"text-align: right;\">\n",
              "      <th></th>\n",
              "      <th>date</th>\n",
              "      <th>temperature</th>\n",
              "      <th>sun_dur</th>\n",
              "      <th>sunwave_rad</th>\n",
              "      <th>r_humidity</th>\n",
              "      <th>cloud_covr</th>\n",
              "      <th>pressure</th>\n",
              "      <th>evapotrans</th>\n",
              "      <th>soil_temp</th>\n",
              "      <th>soil_moisture</th>\n",
              "      <th>vapor_pressure</th>\n",
              "      <th>wind_speed</th>\n",
              "      <th>wind_dir</th>\n",
              "      <th>wind_gust</th>\n",
              "      <th>rainfall</th>\n",
              "    </tr>\n",
              "  </thead>\n",
              "  <tbody>\n",
              "    <tr>\n",
              "      <th>0</th>\n",
              "      <td>19850101T0000</td>\n",
              "      <td>17.24</td>\n",
              "      <td>581.98</td>\n",
              "      <td>4393.04</td>\n",
              "      <td>74.79</td>\n",
              "      <td>37.10</td>\n",
              "      <td>1015.48</td>\n",
              "      <td>2.64</td>\n",
              "      <td>16.06</td>\n",
              "      <td>0.28</td>\n",
              "      <td>5.62</td>\n",
              "      <td>0.93</td>\n",
              "      <td>289.26</td>\n",
              "      <td>2.00</td>\n",
              "      <td>0.0</td>\n",
              "    </tr>\n",
              "    <tr>\n",
              "      <th>1</th>\n",
              "      <td>19850102T0000</td>\n",
              "      <td>16.79</td>\n",
              "      <td>576.65</td>\n",
              "      <td>4733.91</td>\n",
              "      <td>73.79</td>\n",
              "      <td>20.18</td>\n",
              "      <td>1015.70</td>\n",
              "      <td>2.93</td>\n",
              "      <td>16.27</td>\n",
              "      <td>0.28</td>\n",
              "      <td>5.86</td>\n",
              "      <td>1.18</td>\n",
              "      <td>308.82</td>\n",
              "      <td>2.26</td>\n",
              "      <td>0.0</td>\n",
              "    </tr>\n",
              "    <tr>\n",
              "      <th>2</th>\n",
              "      <td>19850103T0000</td>\n",
              "      <td>15.96</td>\n",
              "      <td>424.92</td>\n",
              "      <td>4748.15</td>\n",
              "      <td>74.04</td>\n",
              "      <td>60.13</td>\n",
              "      <td>1015.85</td>\n",
              "      <td>2.92</td>\n",
              "      <td>17.05</td>\n",
              "      <td>0.27</td>\n",
              "      <td>5.94</td>\n",
              "      <td>0.92</td>\n",
              "      <td>265.89</td>\n",
              "      <td>1.91</td>\n",
              "      <td>0.0</td>\n",
              "    </tr>\n",
              "    <tr>\n",
              "      <th>3</th>\n",
              "      <td>19850104T0000</td>\n",
              "      <td>15.33</td>\n",
              "      <td>419.72</td>\n",
              "      <td>4887.88</td>\n",
              "      <td>75.29</td>\n",
              "      <td>37.93</td>\n",
              "      <td>1016.10</td>\n",
              "      <td>2.85</td>\n",
              "      <td>15.80</td>\n",
              "      <td>0.27</td>\n",
              "      <td>5.35</td>\n",
              "      <td>0.88</td>\n",
              "      <td>298.26</td>\n",
              "      <td>2.31</td>\n",
              "      <td>0.0</td>\n",
              "    </tr>\n",
              "    <tr>\n",
              "      <th>4</th>\n",
              "      <td>19850105T0000</td>\n",
              "      <td>15.49</td>\n",
              "      <td>514.05</td>\n",
              "      <td>4951.96</td>\n",
              "      <td>72.13</td>\n",
              "      <td>34.67</td>\n",
              "      <td>1015.27</td>\n",
              "      <td>2.94</td>\n",
              "      <td>17.16</td>\n",
              "      <td>0.27</td>\n",
              "      <td>5.92</td>\n",
              "      <td>1.04</td>\n",
              "      <td>286.70</td>\n",
              "      <td>2.19</td>\n",
              "      <td>0.0</td>\n",
              "    </tr>\n",
              "    <tr>\n",
              "      <th>5</th>\n",
              "      <td>19850106T0000</td>\n",
              "      <td>14.96</td>\n",
              "      <td>658.83</td>\n",
              "      <td>5155.77</td>\n",
              "      <td>61.25</td>\n",
              "      <td>0.00</td>\n",
              "      <td>1014.96</td>\n",
              "      <td>3.01</td>\n",
              "      <td>13.42</td>\n",
              "      <td>0.27</td>\n",
              "      <td>7.73</td>\n",
              "      <td>1.16</td>\n",
              "      <td>265.58</td>\n",
              "      <td>1.87</td>\n",
              "      <td>0.0</td>\n",
              "    </tr>\n",
              "    <tr>\n",
              "      <th>6</th>\n",
              "      <td>19850107T0000</td>\n",
              "      <td>14.87</td>\n",
              "      <td>612.33</td>\n",
              "      <td>4981.33</td>\n",
              "      <td>62.71</td>\n",
              "      <td>4.42</td>\n",
              "      <td>1016.38</td>\n",
              "      <td>2.88</td>\n",
              "      <td>13.31</td>\n",
              "      <td>0.26</td>\n",
              "      <td>7.31</td>\n",
              "      <td>1.15</td>\n",
              "      <td>310.45</td>\n",
              "      <td>2.07</td>\n",
              "      <td>0.0</td>\n",
              "    </tr>\n",
              "    <tr>\n",
              "      <th>7</th>\n",
              "      <td>19850108T0000</td>\n",
              "      <td>15.51</td>\n",
              "      <td>437.56</td>\n",
              "      <td>4981.33</td>\n",
              "      <td>70.42</td>\n",
              "      <td>22.37</td>\n",
              "      <td>1015.56</td>\n",
              "      <td>2.83</td>\n",
              "      <td>14.62</td>\n",
              "      <td>0.26</td>\n",
              "      <td>6.29</td>\n",
              "      <td>1.07</td>\n",
              "      <td>309.81</td>\n",
              "      <td>2.33</td>\n",
              "      <td>0.0</td>\n",
              "    </tr>\n",
              "    <tr>\n",
              "      <th>8</th>\n",
              "      <td>19850109T0000</td>\n",
              "      <td>15.22</td>\n",
              "      <td>579.62</td>\n",
              "      <td>5077.45</td>\n",
              "      <td>75.38</td>\n",
              "      <td>17.09</td>\n",
              "      <td>1016.01</td>\n",
              "      <td>2.75</td>\n",
              "      <td>14.76</td>\n",
              "      <td>0.26</td>\n",
              "      <td>5.43</td>\n",
              "      <td>1.03</td>\n",
              "      <td>307.25</td>\n",
              "      <td>1.80</td>\n",
              "      <td>0.0</td>\n",
              "    </tr>\n",
              "    <tr>\n",
              "      <th>9</th>\n",
              "      <td>19850110T0000</td>\n",
              "      <td>15.19</td>\n",
              "      <td>464.33</td>\n",
              "      <td>4913.69</td>\n",
              "      <td>76.13</td>\n",
              "      <td>41.00</td>\n",
              "      <td>1014.89</td>\n",
              "      <td>2.72</td>\n",
              "      <td>16.27</td>\n",
              "      <td>0.26</td>\n",
              "      <td>5.14</td>\n",
              "      <td>1.40</td>\n",
              "      <td>288.01</td>\n",
              "      <td>2.35</td>\n",
              "      <td>0.0</td>\n",
              "    </tr>\n",
              "  </tbody>\n",
              "</table>\n",
              "</div>\n",
              "      <button class=\"colab-df-convert\" onclick=\"convertToInteractive('df-d5174b10-2bf0-495a-98aa-c2bf1bb30763')\"\n",
              "              title=\"Convert this dataframe to an interactive table.\"\n",
              "              style=\"display:none;\">\n",
              "        \n",
              "  <svg xmlns=\"http://www.w3.org/2000/svg\" height=\"24px\"viewBox=\"0 0 24 24\"\n",
              "       width=\"24px\">\n",
              "    <path d=\"M0 0h24v24H0V0z\" fill=\"none\"/>\n",
              "    <path d=\"M18.56 5.44l.94 2.06.94-2.06 2.06-.94-2.06-.94-.94-2.06-.94 2.06-2.06.94zm-11 1L8.5 8.5l.94-2.06 2.06-.94-2.06-.94L8.5 2.5l-.94 2.06-2.06.94zm10 10l.94 2.06.94-2.06 2.06-.94-2.06-.94-.94-2.06-.94 2.06-2.06.94z\"/><path d=\"M17.41 7.96l-1.37-1.37c-.4-.4-.92-.59-1.43-.59-.52 0-1.04.2-1.43.59L10.3 9.45l-7.72 7.72c-.78.78-.78 2.05 0 2.83L4 21.41c.39.39.9.59 1.41.59.51 0 1.02-.2 1.41-.59l7.78-7.78 2.81-2.81c.8-.78.8-2.07 0-2.86zM5.41 20L4 18.59l7.72-7.72 1.47 1.35L5.41 20z\"/>\n",
              "  </svg>\n",
              "      </button>\n",
              "      \n",
              "  <style>\n",
              "    .colab-df-container {\n",
              "      display:flex;\n",
              "      flex-wrap:wrap;\n",
              "      gap: 12px;\n",
              "    }\n",
              "\n",
              "    .colab-df-convert {\n",
              "      background-color: #E8F0FE;\n",
              "      border: none;\n",
              "      border-radius: 50%;\n",
              "      cursor: pointer;\n",
              "      display: none;\n",
              "      fill: #1967D2;\n",
              "      height: 32px;\n",
              "      padding: 0 0 0 0;\n",
              "      width: 32px;\n",
              "    }\n",
              "\n",
              "    .colab-df-convert:hover {\n",
              "      background-color: #E2EBFA;\n",
              "      box-shadow: 0px 1px 2px rgba(60, 64, 67, 0.3), 0px 1px 3px 1px rgba(60, 64, 67, 0.15);\n",
              "      fill: #174EA6;\n",
              "    }\n",
              "\n",
              "    [theme=dark] .colab-df-convert {\n",
              "      background-color: #3B4455;\n",
              "      fill: #D2E3FC;\n",
              "    }\n",
              "\n",
              "    [theme=dark] .colab-df-convert:hover {\n",
              "      background-color: #434B5C;\n",
              "      box-shadow: 0px 1px 3px 1px rgba(0, 0, 0, 0.15);\n",
              "      filter: drop-shadow(0px 1px 2px rgba(0, 0, 0, 0.3));\n",
              "      fill: #FFFFFF;\n",
              "    }\n",
              "  </style>\n",
              "\n",
              "      <script>\n",
              "        const buttonEl =\n",
              "          document.querySelector('#df-d5174b10-2bf0-495a-98aa-c2bf1bb30763 button.colab-df-convert');\n",
              "        buttonEl.style.display =\n",
              "          google.colab.kernel.accessAllowed ? 'block' : 'none';\n",
              "\n",
              "        async function convertToInteractive(key) {\n",
              "          const element = document.querySelector('#df-d5174b10-2bf0-495a-98aa-c2bf1bb30763');\n",
              "          const dataTable =\n",
              "            await google.colab.kernel.invokeFunction('convertToInteractive',\n",
              "                                                     [key], {});\n",
              "          if (!dataTable) return;\n",
              "\n",
              "          const docLinkHtml = 'Like what you see? Visit the ' +\n",
              "            '<a target=\"_blank\" href=https://colab.research.google.com/notebooks/data_table.ipynb>data table notebook</a>'\n",
              "            + ' to learn more about interactive tables.';\n",
              "          element.innerHTML = '';\n",
              "          dataTable['output_type'] = 'display_data';\n",
              "          await google.colab.output.renderOutput(dataTable, element);\n",
              "          const docLink = document.createElement('div');\n",
              "          docLink.innerHTML = docLinkHtml;\n",
              "          element.appendChild(docLink);\n",
              "        }\n",
              "      </script>\n",
              "    </div>\n",
              "  </div>\n",
              "  "
            ]
          },
          "metadata": {},
          "execution_count": 6
        }
      ]
    },
    {
      "cell_type": "markdown",
      "source": [
        "### Descriptive Statistics "
      ],
      "metadata": {
        "id": "iDwLjx2wDp24"
      }
    },
    {
      "cell_type": "code",
      "source": [
        "# Function to generate descriptive statics with skewness\n",
        "def describe_with_skew(df):\n",
        "    desc = df.describe()\n",
        "    skewness = df.skew()\n",
        "    desc.loc['skewness'] = skewness\n",
        "    return desc"
      ],
      "metadata": {
        "id": "L2YaL75Abipp"
      },
      "execution_count": 7,
      "outputs": []
    },
    {
      "cell_type": "code",
      "source": [
        "# Dataset statistics \n",
        "describe_with_skew(rf).T"
      ],
      "metadata": {
        "colab": {
          "base_uri": "https://localhost:8080/",
          "height": 483
        },
        "id": "sR9KFuiHRDd4",
        "outputId": "680b5e65-79c8-42e5-ded6-560e8dacfbd4"
      },
      "execution_count": 8,
      "outputs": [
        {
          "output_type": "execute_result",
          "data": {
            "text/plain": [
              "                  count         mean          std     min        25%  \\\n",
              "temperature     13514.0    19.715729     2.555507    9.82    18.3000   \n",
              "sun_dur         13514.0   311.506376   265.469846    0.00    38.9775   \n",
              "sunwave_rad     13514.0  3674.445676  1966.830989  408.51  1928.6300   \n",
              "r_humidity      13514.0    70.033351    21.861208   13.92    50.7900   \n",
              "cloud_covr      13514.0    55.573773    37.140209    0.00    17.8800   \n",
              "pressure        13514.0  1011.017662     3.788084  998.32  1008.1000   \n",
              "evapotrans      13514.0     2.093273     0.861543    0.00     1.5500   \n",
              "soil_temp       13514.0    20.386935     3.184127   10.07    18.5400   \n",
              "soil_moisture   13514.0     0.250021     0.077788    0.07     0.1800   \n",
              "vapor_pressure  13514.0     8.023877     6.629649    0.51     2.7600   \n",
              "wind_speed      13514.0     1.557530     0.776388    0.17     0.9600   \n",
              "wind_dir        13514.0   201.894750    70.517926    0.00   147.6725   \n",
              "wind_gust       13514.0     2.805911     1.398211    0.47     1.7100   \n",
              "rainfall        13514.0     6.582781    13.944533    0.00     0.0000   \n",
              "\n",
              "                     50%      75%      max  skewness  \n",
              "temperature       19.680    20.95    27.99  0.182687  \n",
              "sun_dur          264.420   590.36   791.17  0.235598  \n",
              "sunwave_rad     3412.260  5347.12  7913.88  0.246104  \n",
              "r_humidity        76.670    89.00    97.79 -0.563480  \n",
              "cloud_covr        61.755    93.17   100.00 -0.233474  \n",
              "pressure        1011.030  1013.95  1022.80 -0.018639  \n",
              "evapotrans         2.050     2.61     5.81  0.302039  \n",
              "soil_temp         20.770    22.07    30.11 -0.210206  \n",
              "soil_moisture      0.280     0.31     0.37 -0.672137  \n",
              "vapor_pressure     5.750    11.99    31.40  0.989135  \n",
              "wind_speed         1.410     2.00     5.41  0.931436  \n",
              "wind_dir         222.805   254.39   360.00 -0.572573  \n",
              "wind_gust          2.540     3.64    11.16  0.932431  \n",
              "rainfall           0.500     6.50   161.10  3.839885  "
            ],
            "text/html": [
              "\n",
              "  <div id=\"df-801f00a6-88c3-4d5e-bf4d-ab72ad19cf74\">\n",
              "    <div class=\"colab-df-container\">\n",
              "      <div>\n",
              "<style scoped>\n",
              "    .dataframe tbody tr th:only-of-type {\n",
              "        vertical-align: middle;\n",
              "    }\n",
              "\n",
              "    .dataframe tbody tr th {\n",
              "        vertical-align: top;\n",
              "    }\n",
              "\n",
              "    .dataframe thead th {\n",
              "        text-align: right;\n",
              "    }\n",
              "</style>\n",
              "<table border=\"1\" class=\"dataframe\">\n",
              "  <thead>\n",
              "    <tr style=\"text-align: right;\">\n",
              "      <th></th>\n",
              "      <th>count</th>\n",
              "      <th>mean</th>\n",
              "      <th>std</th>\n",
              "      <th>min</th>\n",
              "      <th>25%</th>\n",
              "      <th>50%</th>\n",
              "      <th>75%</th>\n",
              "      <th>max</th>\n",
              "      <th>skewness</th>\n",
              "    </tr>\n",
              "  </thead>\n",
              "  <tbody>\n",
              "    <tr>\n",
              "      <th>temperature</th>\n",
              "      <td>13514.0</td>\n",
              "      <td>19.715729</td>\n",
              "      <td>2.555507</td>\n",
              "      <td>9.82</td>\n",
              "      <td>18.3000</td>\n",
              "      <td>19.680</td>\n",
              "      <td>20.95</td>\n",
              "      <td>27.99</td>\n",
              "      <td>0.182687</td>\n",
              "    </tr>\n",
              "    <tr>\n",
              "      <th>sun_dur</th>\n",
              "      <td>13514.0</td>\n",
              "      <td>311.506376</td>\n",
              "      <td>265.469846</td>\n",
              "      <td>0.00</td>\n",
              "      <td>38.9775</td>\n",
              "      <td>264.420</td>\n",
              "      <td>590.36</td>\n",
              "      <td>791.17</td>\n",
              "      <td>0.235598</td>\n",
              "    </tr>\n",
              "    <tr>\n",
              "      <th>sunwave_rad</th>\n",
              "      <td>13514.0</td>\n",
              "      <td>3674.445676</td>\n",
              "      <td>1966.830989</td>\n",
              "      <td>408.51</td>\n",
              "      <td>1928.6300</td>\n",
              "      <td>3412.260</td>\n",
              "      <td>5347.12</td>\n",
              "      <td>7913.88</td>\n",
              "      <td>0.246104</td>\n",
              "    </tr>\n",
              "    <tr>\n",
              "      <th>r_humidity</th>\n",
              "      <td>13514.0</td>\n",
              "      <td>70.033351</td>\n",
              "      <td>21.861208</td>\n",
              "      <td>13.92</td>\n",
              "      <td>50.7900</td>\n",
              "      <td>76.670</td>\n",
              "      <td>89.00</td>\n",
              "      <td>97.79</td>\n",
              "      <td>-0.563480</td>\n",
              "    </tr>\n",
              "    <tr>\n",
              "      <th>cloud_covr</th>\n",
              "      <td>13514.0</td>\n",
              "      <td>55.573773</td>\n",
              "      <td>37.140209</td>\n",
              "      <td>0.00</td>\n",
              "      <td>17.8800</td>\n",
              "      <td>61.755</td>\n",
              "      <td>93.17</td>\n",
              "      <td>100.00</td>\n",
              "      <td>-0.233474</td>\n",
              "    </tr>\n",
              "    <tr>\n",
              "      <th>pressure</th>\n",
              "      <td>13514.0</td>\n",
              "      <td>1011.017662</td>\n",
              "      <td>3.788084</td>\n",
              "      <td>998.32</td>\n",
              "      <td>1008.1000</td>\n",
              "      <td>1011.030</td>\n",
              "      <td>1013.95</td>\n",
              "      <td>1022.80</td>\n",
              "      <td>-0.018639</td>\n",
              "    </tr>\n",
              "    <tr>\n",
              "      <th>evapotrans</th>\n",
              "      <td>13514.0</td>\n",
              "      <td>2.093273</td>\n",
              "      <td>0.861543</td>\n",
              "      <td>0.00</td>\n",
              "      <td>1.5500</td>\n",
              "      <td>2.050</td>\n",
              "      <td>2.61</td>\n",
              "      <td>5.81</td>\n",
              "      <td>0.302039</td>\n",
              "    </tr>\n",
              "    <tr>\n",
              "      <th>soil_temp</th>\n",
              "      <td>13514.0</td>\n",
              "      <td>20.386935</td>\n",
              "      <td>3.184127</td>\n",
              "      <td>10.07</td>\n",
              "      <td>18.5400</td>\n",
              "      <td>20.770</td>\n",
              "      <td>22.07</td>\n",
              "      <td>30.11</td>\n",
              "      <td>-0.210206</td>\n",
              "    </tr>\n",
              "    <tr>\n",
              "      <th>soil_moisture</th>\n",
              "      <td>13514.0</td>\n",
              "      <td>0.250021</td>\n",
              "      <td>0.077788</td>\n",
              "      <td>0.07</td>\n",
              "      <td>0.1800</td>\n",
              "      <td>0.280</td>\n",
              "      <td>0.31</td>\n",
              "      <td>0.37</td>\n",
              "      <td>-0.672137</td>\n",
              "    </tr>\n",
              "    <tr>\n",
              "      <th>vapor_pressure</th>\n",
              "      <td>13514.0</td>\n",
              "      <td>8.023877</td>\n",
              "      <td>6.629649</td>\n",
              "      <td>0.51</td>\n",
              "      <td>2.7600</td>\n",
              "      <td>5.750</td>\n",
              "      <td>11.99</td>\n",
              "      <td>31.40</td>\n",
              "      <td>0.989135</td>\n",
              "    </tr>\n",
              "    <tr>\n",
              "      <th>wind_speed</th>\n",
              "      <td>13514.0</td>\n",
              "      <td>1.557530</td>\n",
              "      <td>0.776388</td>\n",
              "      <td>0.17</td>\n",
              "      <td>0.9600</td>\n",
              "      <td>1.410</td>\n",
              "      <td>2.00</td>\n",
              "      <td>5.41</td>\n",
              "      <td>0.931436</td>\n",
              "    </tr>\n",
              "    <tr>\n",
              "      <th>wind_dir</th>\n",
              "      <td>13514.0</td>\n",
              "      <td>201.894750</td>\n",
              "      <td>70.517926</td>\n",
              "      <td>0.00</td>\n",
              "      <td>147.6725</td>\n",
              "      <td>222.805</td>\n",
              "      <td>254.39</td>\n",
              "      <td>360.00</td>\n",
              "      <td>-0.572573</td>\n",
              "    </tr>\n",
              "    <tr>\n",
              "      <th>wind_gust</th>\n",
              "      <td>13514.0</td>\n",
              "      <td>2.805911</td>\n",
              "      <td>1.398211</td>\n",
              "      <td>0.47</td>\n",
              "      <td>1.7100</td>\n",
              "      <td>2.540</td>\n",
              "      <td>3.64</td>\n",
              "      <td>11.16</td>\n",
              "      <td>0.932431</td>\n",
              "    </tr>\n",
              "    <tr>\n",
              "      <th>rainfall</th>\n",
              "      <td>13514.0</td>\n",
              "      <td>6.582781</td>\n",
              "      <td>13.944533</td>\n",
              "      <td>0.00</td>\n",
              "      <td>0.0000</td>\n",
              "      <td>0.500</td>\n",
              "      <td>6.50</td>\n",
              "      <td>161.10</td>\n",
              "      <td>3.839885</td>\n",
              "    </tr>\n",
              "  </tbody>\n",
              "</table>\n",
              "</div>\n",
              "      <button class=\"colab-df-convert\" onclick=\"convertToInteractive('df-801f00a6-88c3-4d5e-bf4d-ab72ad19cf74')\"\n",
              "              title=\"Convert this dataframe to an interactive table.\"\n",
              "              style=\"display:none;\">\n",
              "        \n",
              "  <svg xmlns=\"http://www.w3.org/2000/svg\" height=\"24px\"viewBox=\"0 0 24 24\"\n",
              "       width=\"24px\">\n",
              "    <path d=\"M0 0h24v24H0V0z\" fill=\"none\"/>\n",
              "    <path d=\"M18.56 5.44l.94 2.06.94-2.06 2.06-.94-2.06-.94-.94-2.06-.94 2.06-2.06.94zm-11 1L8.5 8.5l.94-2.06 2.06-.94-2.06-.94L8.5 2.5l-.94 2.06-2.06.94zm10 10l.94 2.06.94-2.06 2.06-.94-2.06-.94-.94-2.06-.94 2.06-2.06.94z\"/><path d=\"M17.41 7.96l-1.37-1.37c-.4-.4-.92-.59-1.43-.59-.52 0-1.04.2-1.43.59L10.3 9.45l-7.72 7.72c-.78.78-.78 2.05 0 2.83L4 21.41c.39.39.9.59 1.41.59.51 0 1.02-.2 1.41-.59l7.78-7.78 2.81-2.81c.8-.78.8-2.07 0-2.86zM5.41 20L4 18.59l7.72-7.72 1.47 1.35L5.41 20z\"/>\n",
              "  </svg>\n",
              "      </button>\n",
              "      \n",
              "  <style>\n",
              "    .colab-df-container {\n",
              "      display:flex;\n",
              "      flex-wrap:wrap;\n",
              "      gap: 12px;\n",
              "    }\n",
              "\n",
              "    .colab-df-convert {\n",
              "      background-color: #E8F0FE;\n",
              "      border: none;\n",
              "      border-radius: 50%;\n",
              "      cursor: pointer;\n",
              "      display: none;\n",
              "      fill: #1967D2;\n",
              "      height: 32px;\n",
              "      padding: 0 0 0 0;\n",
              "      width: 32px;\n",
              "    }\n",
              "\n",
              "    .colab-df-convert:hover {\n",
              "      background-color: #E2EBFA;\n",
              "      box-shadow: 0px 1px 2px rgba(60, 64, 67, 0.3), 0px 1px 3px 1px rgba(60, 64, 67, 0.15);\n",
              "      fill: #174EA6;\n",
              "    }\n",
              "\n",
              "    [theme=dark] .colab-df-convert {\n",
              "      background-color: #3B4455;\n",
              "      fill: #D2E3FC;\n",
              "    }\n",
              "\n",
              "    [theme=dark] .colab-df-convert:hover {\n",
              "      background-color: #434B5C;\n",
              "      box-shadow: 0px 1px 3px 1px rgba(0, 0, 0, 0.15);\n",
              "      filter: drop-shadow(0px 1px 2px rgba(0, 0, 0, 0.3));\n",
              "      fill: #FFFFFF;\n",
              "    }\n",
              "  </style>\n",
              "\n",
              "      <script>\n",
              "        const buttonEl =\n",
              "          document.querySelector('#df-801f00a6-88c3-4d5e-bf4d-ab72ad19cf74 button.colab-df-convert');\n",
              "        buttonEl.style.display =\n",
              "          google.colab.kernel.accessAllowed ? 'block' : 'none';\n",
              "\n",
              "        async function convertToInteractive(key) {\n",
              "          const element = document.querySelector('#df-801f00a6-88c3-4d5e-bf4d-ab72ad19cf74');\n",
              "          const dataTable =\n",
              "            await google.colab.kernel.invokeFunction('convertToInteractive',\n",
              "                                                     [key], {});\n",
              "          if (!dataTable) return;\n",
              "\n",
              "          const docLinkHtml = 'Like what you see? Visit the ' +\n",
              "            '<a target=\"_blank\" href=https://colab.research.google.com/notebooks/data_table.ipynb>data table notebook</a>'\n",
              "            + ' to learn more about interactive tables.';\n",
              "          element.innerHTML = '';\n",
              "          dataTable['output_type'] = 'display_data';\n",
              "          await google.colab.output.renderOutput(dataTable, element);\n",
              "          const docLink = document.createElement('div');\n",
              "          docLink.innerHTML = docLinkHtml;\n",
              "          element.appendChild(docLink);\n",
              "        }\n",
              "      </script>\n",
              "    </div>\n",
              "  </div>\n",
              "  "
            ]
          },
          "metadata": {},
          "execution_count": 8
        }
      ]
    },
    {
      "cell_type": "code",
      "source": [
        "# Distribution\n",
        "rf.hist(bins = 30, figsize = (20,20), color = 'b')"
      ],
      "metadata": {
        "id": "FxWa6DCGj5iB"
      },
      "execution_count": null,
      "outputs": []
    },
    {
      "cell_type": "markdown",
      "source": [
        "### Correlation Analysis"
      ],
      "metadata": {
        "id": "ZWeVK3fKD7PQ"
      }
    },
    {
      "cell_type": "code",
      "source": [
        "# Correlation plots\n",
        "import matplotlib.pyplot as plt\n",
        "import seaborn as sns\n",
        "correlations = rf.corr()\n",
        "mask = np.triu(np.ones_like(correlations, dtype=bool))\n",
        "f, ax = plt.subplots(figsize = (20, 20))\n",
        "sns.heatmap(correlations, mask=mask, annot = True, cmap='PiYG', center = 0, fmt = '.1f', square = True)\n",
        "plt.savefig('correlation_heatmap.png')"
      ],
      "metadata": {
        "id": "vsU5WiQbkA9S",
        "colab": {
          "base_uri": "https://localhost:8080/",
          "height": 846
        },
        "outputId": "f57431ad-b3cb-412d-f97b-d17d397d5692"
      },
      "execution_count": null,
      "outputs": [
        {
          "output_type": "display_data",
          "data": {
            "text/plain": [
              "<Figure size 1440x1440 with 2 Axes>"
            ],
            "image/png": "[encoded data removed]"
          },
          "metadata": {
            "needs_background": "light"
          }
        }
      ]
    },
    {
      "cell_type": "markdown",
      "source": [
        "## Analysis of Variable"
      ],
      "metadata": {
        "id": "Dl7tDCN2HLnI"
      }
    },
    {
      "cell_type": "markdown",
      "source": [
        "### Univariate Analysis"
      ],
      "metadata": {
        "id": "vlxzzuv9HS2t"
      }
    },
    {
      "cell_type": "code",
      "source": [
        "import seaborn as sns\n",
        "import matplotlib.pyplot as plt\n",
        "sns.set_palette(\"muted\", color_codes=True)\n",
        "\n",
        "# Loop over each column and create a separate figure for each histogram\n",
        "for col in rf.columns:\n",
        "    # Create a new figure\n",
        "    plt.figure(figsize=(12, 6))\n",
        "    \n",
        "    # Plot histogram of current column\n",
        "    sns.histplot(data=rf, x=col, kde=True)\n",
        "    \n",
        "    # Add axis labels and title\n",
        "    plt.xlabel(col)\n",
        "    plt.ylabel(\"Count\")\n",
        "    plt.title(\"Histogram of \" + col)\n",
        "    \n",
        "    # Display the plot\n",
        "    plt.show()"
      ],
      "metadata": {
        "id": "bHHcuZlCXk-y"
      },
      "execution_count": null,
      "outputs": []
    },
    {
      "cell_type": "markdown",
      "source": [
        "### Bivariate Analysis"
      ],
      "metadata": {
        "id": "U3Xw3IXeHW6y"
      }
    },
    {
      "cell_type": "code",
      "source": [
        "rf3.hist(bins = 30, figsize = (20,20), color = 'b')"
      ],
      "metadata": {
        "id": "QKi7jWzvUd-u"
      },
      "execution_count": null,
      "outputs": []
    },
    {
      "cell_type": "markdown",
      "source": [
        "### Anamalies Detection"
      ],
      "metadata": {
        "id": "xkKowInCp33X"
      }
    },
    {
      "cell_type": "markdown",
      "source": [
        "#### Missing Values"
      ],
      "metadata": {
        "id": "EVgm1ROFFXgq"
      }
    },
    {
      "cell_type": "code",
      "source": [
        "# Checking missing values\n",
        "rf.isnull().sum()"
      ],
      "metadata": {
        "colab": {
          "base_uri": "https://localhost:8080/"
        },
        "id": "w72cp2JGGn23",
        "outputId": "da66df31-64bf-44d1-e261-5e36bea7cc0d"
      },
      "execution_count": null,
      "outputs": [
        {
          "output_type": "execute_result",
          "data": {
            "text/plain": [
              "date              0\n",
              "temperature       0\n",
              "sun_dur           0\n",
              "sunwave_rad       0\n",
              "r_humidity        0\n",
              "cloud_covr        0\n",
              "pressure          0\n",
              "evapotrans        0\n",
              "soil_temp         0\n",
              "soil_moisture     0\n",
              "vapor_pressure    0\n",
              "wind_speed        0\n",
              "wind_dir          0\n",
              "wind_gust         0\n",
              "rainfall          0\n",
              "dtype: int64"
            ]
          },
          "metadata": {},
          "execution_count": 31
        }
      ]
    },
    {
      "cell_type": "markdown",
      "source": [
        "#### Zero variance variables"
      ],
      "metadata": {
        "id": "lqQYlHYWE43Q"
      }
    },
    {
      "cell_type": "code",
      "source": [
        "# Listing features having zero varience\n",
        "var_zero = list(rf.var()[rf.var() == 0].keys())\n",
        "print(pd.DataFrame(var_zero)) "
      ],
      "metadata": {
        "colab": {
          "base_uri": "https://localhost:8080/"
        },
        "id": "OeWhY2JpGckV",
        "outputId": "337645c7-065e-456f-af57-256f264fedec"
      },
      "execution_count": null,
      "outputs": [
        {
          "output_type": "stream",
          "name": "stdout",
          "text": [
            "Empty DataFrame\n",
            "Columns: []\n",
            "Index: []\n"
          ]
        }
      ]
    },
    {
      "cell_type": "code",
      "source": [
        "msno.bar(rf, color = 'lightblue', figsize=(12, 6))\n",
        "plt.show()"
      ],
      "metadata": {
        "colab": {
          "base_uri": "https://localhost:8080/",
          "height": 516
        },
        "id": "P_VuNGD7b03a",
        "outputId": "74266ee2-3652-4f43-f23f-de50545b3484"
      },
      "execution_count": 17,
      "outputs": [
        {
          "output_type": "display_data",
          "data": {
            "text/plain": [
              "<Figure size 864x432 with 3 Axes>"
            ],
            "image/png": "[encoded data removed]"
          },
          "metadata": {
            "needs_background": "light"
          }
        }
      ]
    },
    {
      "cell_type": "markdown",
      "source": [
        "#### Duplicate data"
      ],
      "metadata": {
        "id": "zeB_mf8nFBOU"
      }
    },
    {
      "cell_type": "code",
      "source": [
        "# Check duplicates\n",
        "rf[rf.duplicated()== True].count()"
      ],
      "metadata": {
        "colab": {
          "base_uri": "https://localhost:8080/"
        },
        "id": "4_1JfyCqG3oO",
        "outputId": "a70acbf7-7dbc-477b-c392-ea4fc1bc5055"
      },
      "execution_count": null,
      "outputs": [
        {
          "output_type": "execute_result",
          "data": {
            "text/plain": [
              "date              0\n",
              "temperature       0\n",
              "sun_dur           0\n",
              "sunwave_rad       0\n",
              "r_humidity        0\n",
              "cloud_covr        0\n",
              "pressure          0\n",
              "evapotrans        0\n",
              "soil_temp         0\n",
              "soil_moisture     0\n",
              "vapor_pressure    0\n",
              "wind_speed        0\n",
              "wind_dir          0\n",
              "wind_gust         0\n",
              "rainfall          0\n",
              "dtype: int64"
            ]
          },
          "metadata": {},
          "execution_count": 32
        }
      ]
    },
    {
      "cell_type": "markdown",
      "source": [
        "#### Outliers detection using Box-Plot"
      ],
      "metadata": {
        "id": "PpAUMH6qEmDX"
      }
    },
    {
      "cell_type": "code",
      "source": [
        "# Loop through each column and create box plots\n",
        "for col in rf.columns:\n",
        "    fig, ax = plt.subplots(figsize=(10, 10))  # set the figure size here\n",
        "    sns.boxplot(data=rf[col], ax=ax)\n",
        "    ax.set_title('Box plot of ' + col)\n",
        "    plt.show()"
      ],
      "metadata": {
        "id": "kOxT4THoExSU"
      },
      "execution_count": null,
      "outputs": []
    },
    {
      "cell_type": "code",
      "source": [
        "# # Univariate\n",
        "# # Create a scatter plot\n",
        "# plt.scatter('timestamp', 'temp_me', 'cloud_covr', 'pressr_me', 'evapotrans',\n",
        "#        'soil_moi_me', 'wspeed_10m_me', 'wdir_10m', c='rainfall_amt')\n",
        "\n",
        "# # Add labels and title\n",
        "# plt.xlabel('X')\n",
        "# plt.ylabel('Y')\n",
        "# plt.title('Bivariate Scatter Plot with Target Variable')\n",
        "\n",
        "# # Show the plot\n",
        "# plt.show()"
      ],
      "metadata": {
        "id": "yj0hFk9kkXSF"
      },
      "execution_count": null,
      "outputs": []
    },
    {
      "cell_type": "code",
      "source": [
        "# # Create a figure and axis\n",
        "# fig, ax = plt.subplots()\n",
        "\n",
        "# # Plot the first set of data\n",
        "# ax.scatter(rf3['temp_me'], rf3['rainfall_amt'], c='blue', label='Temperature Vs Rainfall')\n",
        "# ax.scatter(rf3['cloud_covr'], rf3['rainfall_amt'], c='orange',  label='Cloud Vs Rainfall')\n",
        "# ax.scatter(rf3['pressr_me'], rf3['rainfall_amt'], c='red', label='Pressure Vs Rainfall')\n",
        "# ax.scatter(rf3['evapotrans'], rf3['rainfall_amt'], c='yellow',  label='Evaportrans Vs Rainfall')\n",
        "# ax.scatter(rf3['soil_moi_me'], rf3['rainfall_amt'], c='black',  label='Soil moisture Vs Rainfall')\n",
        "# ax.scatter(rf3['wspeed_10m_me'], rf3['rainfall_amt'], c='pink',  label='Wind Speed Vs Rainfall')\n",
        "# ax.scatter(rf3['wdir_10m'], rf3['rainfall_amt'], c='green',  label='Wind Direction Vs Rainfall')\n",
        "\n",
        "# # Add labels and title\n",
        "# ax.set_xlabel('X')\n",
        "# ax.set_ylabel('Y')\n",
        "# ax.set_title('Scatter Plot for Several Variables')\n",
        "\n",
        "# # Add a legend\n",
        "# ax.legend()\n",
        "\n",
        "# # Show the plot\n",
        "# plt.show()"
      ],
      "metadata": {
        "id": "8VnE8K-hZaQG"
      },
      "execution_count": null,
      "outputs": []
    },
    {
      "cell_type": "code",
      "source": [
        "# # Create a figure and axis\n",
        "# fig, (ax1, ax2, ax3, ax4, ax5, ax6, ax7) = plt.subplots(2, 3, figsize=(15, 5))\n",
        "\n",
        "# # Plot the first set of data\n",
        "# ax1.scatter(rf3['temp_me'], rf3['rainfall_amt'], c='blue')\n",
        "# ax1.set_xlabel('Temperature')\n",
        "# ax1.set_ylabel('Rainfall')\n",
        "# ax1.set_title('Temperature Vs Rainfall')\n",
        "# ax1.legend()\n",
        "\n",
        "# # Plot the first set of data\n",
        "# ax2.scatter(rf3['cloud_covr'], rf3['rainfall_amt'], c='orange')\n",
        "# ax2.set_xlabel('Cloud Coverage')\n",
        "# ax2.set_ylabel('Rainfall')\n",
        "# ax2.set_title('Cloud Vs Rainfall')\n",
        "# ax2.legend()\n",
        "\n",
        "# # Plot the first set of data\n",
        "# ax3.scatter(rf3['pressr_me'], rf3['rainfall_amt'], c='red')\n",
        "# ax3.set_xlabel('Pressure')\n",
        "# ax3.set_ylabel('Rainfall')\n",
        "# ax3.set_title('Pressure Vs Rainfall')\n",
        "# ax3.legend()\n",
        "\n",
        "# # Plot the first set of data\n",
        "# ax4.scatter(rf3['evapotrans'], rf3['rainfall_amt'], c='yellow')\n",
        "# ax4.set_xlabel('Pressure')\n",
        "# ax4.set_ylabel('Rainfall')\n",
        "# ax4.set_title('Evaportrans Vs Rainfall')\n",
        "# ax4.legend()\n",
        "\n",
        "# # Plot the first set of data\n",
        "# ax5.scatter(rf3['soil_moi_me'], rf3['rainfall_amt'], c='black')\n",
        "# ax5.set_xlabel('Soil moisture')\n",
        "# ax5.set_ylabel('Rainfall')\n",
        "# ax5.set_title('Soil moisture Vs Rainfall')\n",
        "# ax5.legend()\n",
        "\n",
        "# # Plot the first set of data\n",
        "# ax6.scatter(rf3['wspeed_10m_me'], rf3['rainfall_amt'], c='pink')\n",
        "# ax6.set_xlabel('Wind Speed')\n",
        "# ax6.set_ylabel('Rainfall')\n",
        "# ax6.set_title('Wind Speed Vs Rainfall')\n",
        "# ax6.legend()\n",
        "\n",
        "# # Plot the first set of data\n",
        "# ax7.scatter(rf3['wdir_10m'], rf3['rainfall_amt'], c='green')\n",
        "# ax7.set_xlabel('Wind Direction')\n",
        "# ax7.set_ylabel('Rainfall')\n",
        "# ax7.set_title('Wind Direction Vs Rainfall')\n",
        "# ax7.legend()\n",
        "\n",
        "# # Show the plot\n",
        "# plt.show()"
      ],
      "metadata": {
        "id": "-_PM4rVhcGCW"
      },
      "execution_count": null,
      "outputs": []
    },
    {
      "cell_type": "code",
      "source": [
        "# import matplotlib.pyplot as plt\n",
        "\n",
        "# # Sample data\n",
        "# x = [1, 2, 3, 4, 5]\n",
        "# y = [2, 4, 5, 4, 5]\n",
        "# target = [0, 1, 0, 1, 1]\n",
        "\n",
        "# # Create a scatter plot\n",
        "# plt.scatter(x, y, c=target)\n",
        "\n",
        "# # Add labels and title\n",
        "# plt.xlabel('X')\n",
        "# plt.ylabel('Y')\n",
        "# plt.title('Bivariate Scatter Plot with Target Variable')\n",
        "\n",
        "# # Show the plot\n",
        "# plt.show()"
      ],
      "metadata": {
        "id": "pze74FxeYxV5"
      },
      "execution_count": null,
      "outputs": []
    },
    {
      "cell_type": "code",
      "source": [
        "# bivariate analysis\n"
      ],
      "metadata": {
        "id": "9duh9u91kaWo"
      },
      "execution_count": null,
      "outputs": []
    },
    {
      "cell_type": "markdown",
      "source": [
        "# Data Pre-processing\n"
      ],
      "metadata": {
        "id": "i8u6Zkk0kjIn"
      }
    },
    {
      "cell_type": "code",
      "source": [
        "# Handling missing values"
      ],
      "metadata": {
        "id": "JxyBHw8Lkmnq"
      },
      "execution_count": null,
      "outputs": []
    },
    {
      "cell_type": "code",
      "source": [
        "# Data Transformation"
      ],
      "metadata": {
        "id": "Zc1jKvefkrVP"
      },
      "execution_count": null,
      "outputs": []
    },
    {
      "cell_type": "code",
      "source": [
        "# Handling dependent variable"
      ],
      "metadata": {
        "id": "Oq1yY8tNlDCN"
      },
      "execution_count": null,
      "outputs": []
    },
    {
      "cell_type": "code",
      "source": [
        "# Outliers handling"
      ],
      "metadata": {
        "id": "sQg6jVO8lPt5"
      },
      "execution_count": null,
      "outputs": []
    },
    {
      "cell_type": "markdown",
      "source": [
        "##Feature Selection"
      ],
      "metadata": {
        "id": "y30NabHTlUIQ"
      }
    },
    {
      "cell_type": "code",
      "source": [
        "# Stepwise regression"
      ],
      "metadata": {
        "id": "7O46hyzAlrHn"
      },
      "execution_count": null,
      "outputs": []
    },
    {
      "cell_type": "code",
      "source": [
        "# Correlaiton Analysis"
      ],
      "metadata": {
        "id": "dPQ9PP1aEIpN"
      },
      "execution_count": null,
      "outputs": []
    },
    {
      "cell_type": "code",
      "source": [
        "# Freature to be dropped, Step 1\n",
        "drop_list_1 = ['timestamp','temp_mx', 'temp_mi', 'dir_sw_rad', 'diff_sw_rad',\n",
        "               'rh_mx', 'rh_mi', 'pressr_mi', 'pressr_mx', \n",
        "               'soil_moi_mx', 'soil_moi_mi', 'vapor_pmx', 'vapor_pmi',\n",
        "               'wspeed_10m_mx', 'wspeed_10m_mi', 'wspeed_80m_mx', 'wspeed_80m_mi',\n",
        "               'wdir_80m', 'wgust_mi', 'wgust_mx']\n",
        "\n",
        "# Copy dataframe as rf1\n",
        "rf1 = rf.copy()\n",
        "\n",
        "# Dropping features \n",
        "rf1.drop(drop_list_1, axis = 1, inplace = True)"
      ],
      "metadata": {
        "id": "nam8AjsuEEGo"
      },
      "execution_count": null,
      "outputs": []
    },
    {
      "cell_type": "code",
      "source": [
        "# Recursive Random Forests (Feature importance)"
      ],
      "metadata": {
        "id": "fxFutSSzlapR"
      },
      "execution_count": null,
      "outputs": []
    },
    {
      "cell_type": "markdown",
      "source": [
        "## Normalization"
      ],
      "metadata": {
        "id": "pDmdETx_mBaQ"
      }
    },
    {
      "cell_type": "code",
      "source": [],
      "metadata": {
        "id": "pKjhG3TnmEEl"
      },
      "execution_count": null,
      "outputs": []
    },
    {
      "cell_type": "code",
      "source": [],
      "metadata": {
        "id": "nCz0FGGomFjg"
      },
      "execution_count": null,
      "outputs": []
    },
    {
      "cell_type": "markdown",
      "source": [
        "# Data Partition"
      ],
      "metadata": {
        "id": "D0DsloRVmF_F"
      }
    },
    {
      "cell_type": "code",
      "source": [
        "# Assiging independent and dependent variable\n",
        "X = rf3.iloc[: , :-1]\n",
        "y = rf3.iloc[:, -1]\n",
        "print(y.shape, X.shape)"
      ],
      "metadata": {
        "colab": {
          "base_uri": "https://localhost:8080/"
        },
        "id": "dMYFB_NObxAV",
        "outputId": "5a9ac013-c0f6-4369-a76c-2286301b948f"
      },
      "execution_count": null,
      "outputs": [
        {
          "output_type": "stream",
          "name": "stdout",
          "text": [
            "(13514,) (13514, 7)\n"
          ]
        }
      ]
    },
    {
      "cell_type": "code",
      "source": [
        "y.head()"
      ],
      "metadata": {
        "colab": {
          "base_uri": "https://localhost:8080/"
        },
        "id": "4H-xwfxxb59v",
        "outputId": "3b732972-b6e5-43fe-bf97-8efd2c296572"
      },
      "execution_count": null,
      "outputs": [
        {
          "output_type": "execute_result",
          "data": {
            "text/plain": [
              "0    0.0\n",
              "1    0.0\n",
              "2    0.0\n",
              "3    0.0\n",
              "4    0.0\n",
              "Name: rainfall_amt, dtype: float64"
            ]
          },
          "metadata": {},
          "execution_count": 37
        }
      ]
    },
    {
      "cell_type": "code",
      "source": [
        "X.head()"
      ],
      "metadata": {
        "colab": {
          "base_uri": "https://localhost:8080/",
          "height": 204
        },
        "id": "T-ahi_SUb_IL",
        "outputId": "2723bdb1-0c11-4a9d-d02d-62bf65c6758f"
      },
      "execution_count": null,
      "outputs": [
        {
          "output_type": "execute_result",
          "data": {
            "text/plain": [
              "   temp_me  cloud_covr  pressr_me  evapotrans  soil_moi_me  wspeed_10m_me  \\\n",
              "0    17.24       37.10    1015.48        2.64         0.28           0.93   \n",
              "1    16.79       20.18    1015.70        2.93         0.28           1.18   \n",
              "2    15.96       60.13    1015.85        2.92         0.27           0.92   \n",
              "3    15.33       37.93    1016.10        2.85         0.27           0.88   \n",
              "4    15.49       34.67    1015.27        2.94         0.27           1.04   \n",
              "\n",
              "   wdir_10m  \n",
              "0    289.26  \n",
              "1    308.82  \n",
              "2    265.89  \n",
              "3    298.26  \n",
              "4    286.70  "
            ],
            "text/html": [
              "\n",
              "  <div id=\"df-7ce800a2-e6e7-472e-bc18-0156a29b970a\">\n",
              "    <div class=\"colab-df-container\">\n",
              "      <div>\n",
              "<style scoped>\n",
              "    .dataframe tbody tr th:only-of-type {\n",
              "        vertical-align: middle;\n",
              "    }\n",
              "\n",
              "    .dataframe tbody tr th {\n",
              "        vertical-align: top;\n",
              "    }\n",
              "\n",
              "    .dataframe thead th {\n",
              "        text-align: right;\n",
              "    }\n",
              "</style>\n",
              "<table border=\"1\" class=\"dataframe\">\n",
              "  <thead>\n",
              "    <tr style=\"text-align: right;\">\n",
              "      <th></th>\n",
              "      <th>temp_me</th>\n",
              "      <th>cloud_covr</th>\n",
              "      <th>pressr_me</th>\n",
              "      <th>evapotrans</th>\n",
              "      <th>soil_moi_me</th>\n",
              "      <th>wspeed_10m_me</th>\n",
              "      <th>wdir_10m</th>\n",
              "    </tr>\n",
              "  </thead>\n",
              "  <tbody>\n",
              "    <tr>\n",
              "      <th>0</th>\n",
              "      <td>17.24</td>\n",
              "      <td>37.10</td>\n",
              "      <td>1015.48</td>\n",
              "      <td>2.64</td>\n",
              "      <td>0.28</td>\n",
              "      <td>0.93</td>\n",
              "      <td>289.26</td>\n",
              "    </tr>\n",
              "    <tr>\n",
              "      <th>1</th>\n",
              "      <td>16.79</td>\n",
              "      <td>20.18</td>\n",
              "      <td>1015.70</td>\n",
              "      <td>2.93</td>\n",
              "      <td>0.28</td>\n",
              "      <td>1.18</td>\n",
              "      <td>308.82</td>\n",
              "    </tr>\n",
              "    <tr>\n",
              "      <th>2</th>\n",
              "      <td>15.96</td>\n",
              "      <td>60.13</td>\n",
              "      <td>1015.85</td>\n",
              "      <td>2.92</td>\n",
              "      <td>0.27</td>\n",
              "      <td>0.92</td>\n",
              "      <td>265.89</td>\n",
              "    </tr>\n",
              "    <tr>\n",
              "      <th>3</th>\n",
              "      <td>15.33</td>\n",
              "      <td>37.93</td>\n",
              "      <td>1016.10</td>\n",
              "      <td>2.85</td>\n",
              "      <td>0.27</td>\n",
              "      <td>0.88</td>\n",
              "      <td>298.26</td>\n",
              "    </tr>\n",
              "    <tr>\n",
              "      <th>4</th>\n",
              "      <td>15.49</td>\n",
              "      <td>34.67</td>\n",
              "      <td>1015.27</td>\n",
              "      <td>2.94</td>\n",
              "      <td>0.27</td>\n",
              "      <td>1.04</td>\n",
              "      <td>286.70</td>\n",
              "    </tr>\n",
              "  </tbody>\n",
              "</table>\n",
              "</div>\n",
              "      <button class=\"colab-df-convert\" onclick=\"convertToInteractive('df-7ce800a2-e6e7-472e-bc18-0156a29b970a')\"\n",
              "              title=\"Convert this dataframe to an interactive table.\"\n",
              "              style=\"display:none;\">\n",
              "        \n",
              "  <svg xmlns=\"http://www.w3.org/2000/svg\" height=\"24px\"viewBox=\"0 0 24 24\"\n",
              "       width=\"24px\">\n",
              "    <path d=\"M0 0h24v24H0V0z\" fill=\"none\"/>\n",
              "    <path d=\"M18.56 5.44l.94 2.06.94-2.06 2.06-.94-2.06-.94-.94-2.06-.94 2.06-2.06.94zm-11 1L8.5 8.5l.94-2.06 2.06-.94-2.06-.94L8.5 2.5l-.94 2.06-2.06.94zm10 10l.94 2.06.94-2.06 2.06-.94-2.06-.94-.94-2.06-.94 2.06-2.06.94z\"/><path d=\"M17.41 7.96l-1.37-1.37c-.4-.4-.92-.59-1.43-.59-.52 0-1.04.2-1.43.59L10.3 9.45l-7.72 7.72c-.78.78-.78 2.05 0 2.83L4 21.41c.39.39.9.59 1.41.59.51 0 1.02-.2 1.41-.59l7.78-7.78 2.81-2.81c.8-.78.8-2.07 0-2.86zM5.41 20L4 18.59l7.72-7.72 1.47 1.35L5.41 20z\"/>\n",
              "  </svg>\n",
              "      </button>\n",
              "      \n",
              "  <style>\n",
              "    .colab-df-container {\n",
              "      display:flex;\n",
              "      flex-wrap:wrap;\n",
              "      gap: 12px;\n",
              "    }\n",
              "\n",
              "    .colab-df-convert {\n",
              "      background-color: #E8F0FE;\n",
              "      border: none;\n",
              "      border-radius: 50%;\n",
              "      cursor: pointer;\n",
              "      display: none;\n",
              "      fill: #1967D2;\n",
              "      height: 32px;\n",
              "      padding: 0 0 0 0;\n",
              "      width: 32px;\n",
              "    }\n",
              "\n",
              "    .colab-df-convert:hover {\n",
              "      background-color: #E2EBFA;\n",
              "      box-shadow: 0px 1px 2px rgba(60, 64, 67, 0.3), 0px 1px 3px 1px rgba(60, 64, 67, 0.15);\n",
              "      fill: #174EA6;\n",
              "    }\n",
              "\n",
              "    [theme=dark] .colab-df-convert {\n",
              "      background-color: #3B4455;\n",
              "      fill: #D2E3FC;\n",
              "    }\n",
              "\n",
              "    [theme=dark] .colab-df-convert:hover {\n",
              "      background-color: #434B5C;\n",
              "      box-shadow: 0px 1px 3px 1px rgba(0, 0, 0, 0.15);\n",
              "      filter: drop-shadow(0px 1px 2px rgba(0, 0, 0, 0.3));\n",
              "      fill: #FFFFFF;\n",
              "    }\n",
              "  </style>\n",
              "\n",
              "      <script>\n",
              "        const buttonEl =\n",
              "          document.querySelector('#df-7ce800a2-e6e7-472e-bc18-0156a29b970a button.colab-df-convert');\n",
              "        buttonEl.style.display =\n",
              "          google.colab.kernel.accessAllowed ? 'block' : 'none';\n",
              "\n",
              "        async function convertToInteractive(key) {\n",
              "          const element = document.querySelector('#df-7ce800a2-e6e7-472e-bc18-0156a29b970a');\n",
              "          const dataTable =\n",
              "            await google.colab.kernel.invokeFunction('convertToInteractive',\n",
              "                                                     [key], {});\n",
              "          if (!dataTable) return;\n",
              "\n",
              "          const docLinkHtml = 'Like what you see? Visit the ' +\n",
              "            '<a target=\"_blank\" href=https://colab.research.google.com/notebooks/data_table.ipynb>data table notebook</a>'\n",
              "            + ' to learn more about interactive tables.';\n",
              "          element.innerHTML = '';\n",
              "          dataTable['output_type'] = 'display_data';\n",
              "          await google.colab.output.renderOutput(dataTable, element);\n",
              "          const docLink = document.createElement('div');\n",
              "          docLink.innerHTML = docLinkHtml;\n",
              "          element.appendChild(docLink);\n",
              "        }\n",
              "      </script>\n",
              "    </div>\n",
              "  </div>\n",
              "  "
            ]
          },
          "metadata": {},
          "execution_count": 38
        }
      ]
    },
    {
      "cell_type": "code",
      "source": [
        "# Data partitioning 70:30 ratio\n",
        "from sklearn.model_selection import train_test_split\n",
        "X_train, X_test, y_train, y_test = train_test_split(X, y, test_size = 0.3, random_state = 123)\n",
        "print(X_train.shape, y_train.shape)\n",
        "print(X_test.shape, y_test.shape)"
      ],
      "metadata": {
        "id": "KISRoArumKLz",
        "colab": {
          "base_uri": "https://localhost:8080/"
        },
        "outputId": "d50be1d5-3520-4163-c5b6-a50985730e47"
      },
      "execution_count": null,
      "outputs": [
        {
          "output_type": "stream",
          "name": "stdout",
          "text": [
            "(9459, 7) (9459,)\n",
            "(4055, 7) (4055,)\n"
          ]
        }
      ]
    },
    {
      "cell_type": "markdown",
      "source": [
        "# Modelling "
      ],
      "metadata": {
        "id": "1BgiWylMmNSc"
      }
    },
    {
      "cell_type": "markdown",
      "source": [
        "#### Random Forest"
      ],
      "metadata": {
        "id": "Sc-tNw-0mSAi"
      }
    },
    {
      "cell_type": "code",
      "source": [
        "import pandas as pd\n",
        "from sklearn.ensemble import RandomForestRegressor\n",
        "from sklearn.model_selection import train_test_split\n",
        "from sklearn.metrics import mean_squared_error"
      ],
      "metadata": {
        "id": "fhNzxtPCmPZe"
      },
      "execution_count": null,
      "outputs": []
    },
    {
      "cell_type": "code",
      "source": [
        "X_train, X_test, y_train, y_test = train_test_split(X, y, test_size = 0.3, random_state = 123)\n",
        "print(X_train.shape, y_train.shape)\n",
        "print(X_test.shape, y_test.shape)"
      ],
      "metadata": {
        "id": "p30k8Mot8f1E",
        "colab": {
          "base_uri": "https://localhost:8080/"
        },
        "outputId": "92c29b0d-1646-4368-8315-3d6b83bc14d6"
      },
      "execution_count": null,
      "outputs": [
        {
          "output_type": "stream",
          "name": "stdout",
          "text": [
            "(9459, 7) (9459,)\n",
            "(4055, 7) (4055,)\n"
          ]
        }
      ]
    },
    {
      "cell_type": "code",
      "source": [
        "rf_reg = RandomForestRegressor(n_estimators=100, random_state=42)\n",
        "rf_reg.fit(X_train, y_train)"
      ],
      "metadata": {
        "colab": {
          "base_uri": "https://localhost:8080/"
        },
        "id": "l4OTE3ps8Iw1",
        "outputId": "13478d9a-cc9d-4c39-b723-1721711a2652"
      },
      "execution_count": null,
      "outputs": [
        {
          "output_type": "execute_result",
          "data": {
            "text/plain": [
              "RandomForestRegressor(random_state=42)"
            ]
          },
          "metadata": {},
          "execution_count": 42
        }
      ]
    },
    {
      "cell_type": "code",
      "source": [
        "y_pred_rf_reg = rf_reg.predict(X_test)"
      ],
      "metadata": {
        "id": "X-nr4Xhc8Ozb"
      },
      "execution_count": null,
      "outputs": []
    },
    {
      "cell_type": "markdown",
      "source": [
        "##### Feature importance"
      ],
      "metadata": {
        "id": "eHBt7KMl4CeX"
      }
    },
    {
      "cell_type": "code",
      "source": [
        "# Get feature importances\n",
        "importances = rf_reg.feature_importances_\n",
        "\n",
        "# Sort feature importances in descending order\n",
        "indices = np.argsort(importances)[::-1]\n",
        "\n",
        "# Rearrange feature names so they match the sorted feature importances\n",
        "names = [X_train.columns[i] for i in indices]\n",
        "\n",
        "# Plot feature importances\n",
        "plt.figure()\n",
        "plt.title(\"Feature Importance\")\n",
        "plt.bar(range(X_train.shape[1]), importances[indices])\n",
        "plt.xticks(range(X_train.shape[1]), names, rotation=90)\n",
        "plt.show()"
      ],
      "metadata": {
        "id": "o-zYfjVbmXR5"
      },
      "execution_count": null,
      "outputs": []
    },
    {
      "cell_type": "markdown",
      "source": [
        "#### Support Vector Machine"
      ],
      "metadata": {
        "id": "sOPmLvW4mYbb"
      }
    },
    {
      "cell_type": "code",
      "source": [
        "from sklearn.svm import SVR\n",
        "\n",
        "# SVR with linear kernel\n",
        "svr_l = SVR(kernel='linear')\n",
        "svr_l.fit(X_train, y_train)\n",
        "y_pred_svr_l = svr_l.predict(X_test)\n",
        "\n",
        "# SVR class with polynomial kernel of degree 3\n",
        "svr_poly = SVR(kernel='poly', degree=3)\n",
        "svr_poly.fit(X_train, y_train)\n",
        "y_pred_svr_poly = svr_poly.predict(X_test)\n",
        "\n",
        "# SVR class with RBF kernel\n",
        "svr_rbf = SVR(kernel='rbf')\n",
        "svr_rbf.fit(X_train, y_train)\n",
        "y_pred_svr_rbf = svr_rbf.predict(X_test)\n",
        "\n",
        "# SVR class with sigmoid kernel\n",
        "svr_sigmoid = SVR(kernel='sigmoid')\n",
        "svr_sigmoid.fit(X_train, y_train)\n",
        "y_pred_svr_sigmoid = svr_sigmoid.predict(X_test)\n"
      ],
      "metadata": {
        "id": "M2A-5J6smeal"
      },
      "execution_count": null,
      "outputs": []
    },
    {
      "cell_type": "code",
      "source": [],
      "metadata": {
        "id": "Xk71KWg_7_on"
      },
      "execution_count": null,
      "outputs": []
    },
    {
      "cell_type": "markdown",
      "source": [
        "#### Artificial Neural Network"
      ],
      "metadata": {
        "id": "KhvZdYtDme0Q"
      }
    },
    {
      "cell_type": "code",
      "source": [],
      "metadata": {
        "id": "ont7wbLvmlPD"
      },
      "execution_count": null,
      "outputs": []
    },
    {
      "cell_type": "markdown",
      "source": [
        "# Model Evaluation"
      ],
      "metadata": {
        "id": "0gioI7eLmnWl"
      }
    },
    {
      "cell_type": "markdown",
      "source": [
        "#### Random Forest "
      ],
      "metadata": {
        "id": "288omA_NyZbH"
      }
    },
    {
      "cell_type": "code",
      "source": [
        "# RMSE\n",
        "import numpy as np\n",
        "from sklearn.metrics import mean_squared_error, mean_absolute_error\n",
        "from sklearn.metrics import r2_score\n",
        "\n",
        "rmse_rf = np.sqrt(mean_squared_error(y_test, y_pred_rf_reg))\n",
        "print(\"RMSE:\", rmse_rf)\n",
        "\n",
        "# MAE\n",
        "mae_rf = mean_absolute_error(y_test, y_pred_rf_reg)\n",
        "print(\"MAE:\", mae_rf)\n",
        "\n",
        "# R^2\n",
        "r2_rf = r2_score(y_test, y_pred_rf_reg)\n",
        "print(\"R-Square:\", r2_rf)\n"
      ],
      "metadata": {
        "id": "GY1gIJDimp0u",
        "colab": {
          "base_uri": "https://localhost:8080/"
        },
        "outputId": "deb199f9-1b2b-438d-c15b-a55b1f3ea2b7"
      },
      "execution_count": null,
      "outputs": [
        {
          "output_type": "stream",
          "name": "stdout",
          "text": [
            "RMSE: 5.932869323906429\n",
            "MAE: 2.862330702836005\n",
            "R-Square: 0.8320998243008676\n"
          ]
        }
      ]
    },
    {
      "cell_type": "code",
      "source": [
        "print(\"Random Forest\")\n",
        "rmse_rf = np.sqrt(mean_squared_error(y_test, y_pred_rf_reg))\n",
        "print(\"RMSE:\", round(rmse_rf, 4))\n",
        "\n",
        "# MAE\n",
        "mae_rf = mean_absolute_error(y_test, y_pred_rf_reg)\n",
        "print(\"MAE:\", round(mae_rf, 4))\n",
        "\n",
        "# R^2\n",
        "r2_rf = r2_score(y_test, y_pred_rf_reg)\n",
        "print(\"R-Square:\", round(r2_rf, 4))\n",
        "print(\"======================\")\n",
        "\n",
        "##### SVR_L\n",
        "print(\"SVM_Linear\")\n",
        "rmse_svr_l = np.sqrt(mean_squared_error(y_test, y_pred_svr_l))\n",
        "print(\"RMSE_SVR_L:\", round(rmse_svr_l, 4))\n",
        "\n",
        "# MAE\n",
        "mae_svr_l = mean_absolute_error(y_test, y_pred_svr_l)\n",
        "print(\"MAE_SVR_L:\", round(mae_svr_l, 4))\n",
        "\n",
        "# R^2\n",
        "r2_svr_l = r2_score(y_test, y_pred_svr_l)\n",
        "print(\"R-Square_SVR_L:\", round(r2_svr_l, 4))\n",
        "print(\"======================\")\n",
        "\n",
        "##### SVR_POLY\n",
        "print(\"SVM_Poly\")\n",
        "rmse_svr_poly = np.sqrt(mean_squared_error(y_test, y_pred_svr_poly))\n",
        "print(\"RMSE_SVR_POLY:\", round(rmse_svr_poly, 4))\n",
        "\n",
        "# MAE\n",
        "mae_svr_poly = mean_absolute_error(y_test, y_pred_svr_poly)\n",
        "print(\"MAE_SVR_POLY:\", round(mae_svr_poly, 4))\n",
        "\n",
        "# R^2\n",
        "r2_svr_poly = r2_score(y_test, y_pred_svr_poly)\n",
        "print(\"R-Square_SVR_POLY:\", round(r2_svr_poly, 4))\n",
        "print(\"======================\")\n",
        "\n",
        "##### SVR_RBF\n",
        "print(\"SVM_RBF\")\n",
        "rmse_svr_rbf = np.sqrt(mean_squared_error(y_test, y_pred_svr_rbf))\n",
        "print(\"RMSE_SVR_RBF:\", round(rmse_svr_rbf, 4))\n",
        "\n",
        "# MAE\n",
        "mae_svr_rbf = mean_absolute_error(y_test, y_pred_svr_rbf)\n",
        "print(\"MAE_SVR_RBF:\", round(mae_svr_rbf, 4))\n",
        "\n",
        "# R^2\n",
        "r2_svr_rbf = r2_score(y_test, y_pred_svr_rbf)\n",
        "print(\"R-Square_SVR_RBF:\", round(r2_svr_rbf, 4))\n",
        "print(\"======================\")\n",
        "\n",
        "##### SVR_Sigmoid\n",
        "print(\"SVM_Sigmoid\")\n",
        "rmse_svr_sigmoid = np.sqrt(mean_squared_error(y_test, y_pred_svr_sigmoid))\n",
        "print(\"RMSE_SVR_Sigmoid:\", round(rmse_svr_sigmoid, 4))\n",
        "\n",
        "# MAE\n",
        "mae_svr_sigmoid = mean_absolute_error(y_test, y_pred_svr_sigmoid)\n",
        "print(\"MAE_SVR_Sigmoid:\", round(mae_svr_sigmoid, 4))\n",
        "\n",
        "# R^2\n",
        "r2_svr_sigmoid = r2_score(y_test, y_pred_svr_sigmoid)\n",
        "print(\"R-Square_SVR_Sigmoid:\", round(r2_svr_sigmoid, 4))\n"
      ],
      "metadata": {
        "colab": {
          "base_uri": "https://localhost:8080/"
        },
        "id": "YpBVaE4H40Q5",
        "outputId": "51236061-b185-4cee-83a0-5c1450147347"
      },
      "execution_count": null,
      "outputs": [
        {
          "output_type": "stream",
          "name": "stdout",
          "text": [
            "Random Forest\n",
            "RMSE: 5.9329\n",
            "MAE: 2.8623\n",
            "R-Square: 0.8321\n",
            "======================\n",
            "SVM_Linear\n",
            "RMSE_SVR_L: 12.2733\n",
            "MAE_SVR_L: 5.5648\n",
            "R-Square_SVR_L: 0.2815\n",
            "======================\n",
            "SVM_Poly\n",
            "RMSE_SVR_POLY: 14.0396\n",
            "MAE_SVR_POLY: 5.8988\n",
            "R-Square_SVR_POLY: 0.0598\n",
            "======================\n",
            "SVM_RBF\n",
            "RMSE_SVR_RBF: 14.161\n",
            "MAE_SVR_RBF: 5.933\n",
            "R-Square_SVR_RBF: 0.0434\n",
            "======================\n",
            "SVM_Sigmoid\n",
            "RMSE_SVR_Sigmoid: 14.805\n",
            "MAE_SVR_Sigmoid: 6.1106\n",
            "R-Square_SVR_Sigmoid: -0.0455\n"
          ]
        }
      ]
    },
    {
      "cell_type": "code",
      "source": [
        "import keras\n",
        "from keras.models import Sequential\n",
        "from keras.layers import Dense\n",
        "\n",
        "# Define the model\n",
        "ANN = Sequential()\n",
        "ANN.add(Dense(64, input_dim=7, activation='relu'))\n",
        "ANN.add(Dense(64, activation='relu'))\n",
        "ANN.add(Dense(1, activation='linear'))\n",
        "\n",
        "# Compile the model\n",
        "ANN.compile(loss='mean_squared_error', optimizer='adam')\n",
        "\n",
        "# Train the model\n",
        "ANN.fit(X_train, y_train, epochs=100, batch_size=32, verbose=0)\n",
        "\n",
        "# Evaluate the model on the test data\n",
        "test_loss = ANN.evaluate(X_test, y_test, verbose=0)\n",
        "\n",
        "# Print the test loss\n",
        "print('Test loss:', test_loss)\n"
      ],
      "metadata": {
        "colab": {
          "base_uri": "https://localhost:8080/"
        },
        "id": "EkODdgb4CIhP",
        "outputId": "6ce93cc6-aafa-4ef9-e966-7361a7798aa0"
      },
      "execution_count": null,
      "outputs": [
        {
          "output_type": "stream",
          "name": "stdout",
          "text": [
            "Test loss: 101.2066650390625\n"
          ]
        }
      ]
    },
    {
      "cell_type": "code",
      "source": [
        "# Predict on the test data\n",
        "y_pred_ann = ANN.predict(X_test)\n",
        "\n",
        "# Calculate the RMSE\n",
        "rmse_ann = np.sqrt(mean_squared_error(y_test, y_pred_ann))\n",
        "print(\"RMSE:\", rmse_ann)\n",
        "\n",
        "# Calculate the MAE\n",
        "mae_ann = mean_absolute_error(y_test, y_pred_ann)\n",
        "print(\"MAE:\", mae_ann)\n",
        "\n",
        "# Calculate the R-squared\n",
        "r2_ann = r2_score(y_test, y_pred_ann)\n",
        "print(\"R-squared:\", r2_ann)"
      ],
      "metadata": {
        "colab": {
          "base_uri": "https://localhost:8080/"
        },
        "id": "JN2eE7OjDVf3",
        "outputId": "cd468ff5-36cf-4ca2-c069-d35a327fc8df"
      },
      "execution_count": null,
      "outputs": [
        {
          "output_type": "stream",
          "name": "stdout",
          "text": [
            "127/127 [==============================] - 0s 936us/step\n",
            "RMSE: 10.060151869120778\n",
            "MAE: 5.30456817244043\n",
            "R-squared: 0.5172406888516679\n"
          ]
        }
      ]
    }
  ]
}